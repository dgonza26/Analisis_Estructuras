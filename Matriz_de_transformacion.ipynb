{
 "cells": [
  {
   "cell_type": "markdown",
   "metadata": {},
   "source": [
    "Contenido bajo licencia Creative Commons BY-NC-ND. El contenido de este Notebook es creado por Ana Beatriz Acevedo Jaramillo y Daniela González González 2020. Este material es parte del curso Análisis de Estructuras del programa de Ingeniería Civil de la Universidad EAFIT."
   ]
  },
  {
   "cell_type": "markdown",
   "metadata": {},
   "source": [
    "<img src= \n",
    "\"http://www.eafit.edu.co/biblioteca/PublishingImages/logos/eafit_apa.jpg\" \n",
    "         alt=\"GeeksforGeeks logo\" \n",
    "         align=\"left\">"
   ]
  },
  {
   "cell_type": "markdown",
   "metadata": {},
   "source": [
    "# Matriz de transformación"
   ]
  },
  {
   "cell_type": "markdown",
   "metadata": {},
   "source": [
    "## Introducción"
   ]
  },
  {
   "cell_type": "markdown",
   "metadata": {},
   "source": [
    "<p style='text-align: justify;'> El metodo de análisis matricial de estructuras busca sistematizar la solución de cualquier problema ya sea estáticamente determinado o indeterminado. Para alcanzar ese objetivo, es necesario considerar que los elementos que componen un sistema estructural pueden tener diferentes orientaciones lo que hace necesario el empleo de un sistema de coordenadas para cada elemento (local) y uno la estructura en general (global). </p>\n",
    "\n",
    "**Al completar este notebook usted debería estar en la capacidad de:**\n",
    "\n",
    "* Deducir las matrices de transformación de cerchas y pórticos planos.\n",
    "\n",
    "* Formular apropiadamente la matriz basandose en las coordenadas de los elementos.\n",
    "\n",
    "* Reconocer la diferencia entre coordenadas locales y coordenadas globales.\n",
    "\n",
    "* Reconocer las diferencias entre elementos verticales, horizontales y diagonales.\n"
   ]
  },
  {
   "cell_type": "markdown",
   "metadata": {},
   "source": [
    "Consideremos un elemento de cercha orientado horizontalmente y con fuerzas internas $f_{xi}$, $f_{yi}$, $f_{xf}$ y $f_{yf}$ en coordenadas locales (a). Consideremos las fuerzas internas ahora con relación a los ejes globales (b), se han suprimido en este paso las fuerzas cortantes $f_{yi}$ y $f_{yf}$ que son nulas en el caso de las cerchas.\n",
    "\n",
    "<center><img src=\"img\\1_Elemento_cercha_horizontal.png\" width=\"800\"> </center>\n",
    "\n",
    "\n",
    "Como se puede observar, la fuerzas  $f_{xi}$ y $f_{xf}$ coinciden perfectamente con los ejes globales, por lo cual, las fuerzas internas del elemento en sistema global serán: $F_{Xi}$ = $f_{xi}$ y $F_{Xf}$ = $f_{xf}$; las fuerzas $F_{Yi}$ y $F_{Yf}$ son iguales a cero. De forma matricial podemos escribirlo de la siguiente manera:\n",
    "\n",
    "$$\n",
    "\\begin{Bmatrix} F_{Xi}\\\\ F_{Yi}\\\\F_{Xf}\\\\ F_{Yf}\\end{Bmatrix}\n",
    "=\n",
    "\\begin{bmatrix}\n",
    "1 &0 &0  &0\\\\\n",
    "0 &0 &0  &0\\\\\n",
    "0 &0 &1 &0\\\\\n",
    " 0 &0 &0 &0\\end{bmatrix}\n",
    "\\begin{Bmatrix} f_{xi}\\\\0\\\\f_{xf}\\\\0\\end{Bmatrix}\\, .$$\n",
    "\n",
    "\n",
    "La matriz que multiplica al vector de fuerzas internas se llama matriz de transformación $[T]$ y en ella está contenida la información sobre las dirección de cualquier elemento con respecto a los ejes globales. Para comprobar la validez de este sistema de ecuaciones, calculemos el valor de las fuerzas en el sistema de referencia global:\n",
    "\n",
    "\\begin{align} \n",
    "F_{Xi} =  f_{xi} * 1 ≠ 0\\\\\n",
    "F_{Yi} =  f_{yi} * 0 = 0\\\\\n",
    "F_{Xf} =  f_{xf} * 1 ≠ 0\\\\\n",
    "F_{Yf} =  f_{yf} * 0 = 0\\\\\n",
    "\\end{align}\n",
    "\n",
    "Ahora, consideremos un elemento de cercha cuyos ejes no coinciden con los ejes globales, sino, que tiene una rotación respecto a los ejes globales de $\\theta$.\n",
    "\n",
    "<center><img src=\"img\\2_Elemento_cercha_rotado.png\" width=\"600\"> </center>\n",
    "\n",
    "A pesar de que las cortantes en elementos tipo cercha son iguales a cero, en el caso de los elementos inclinados nos damos cuenta que las fuerzas en coordenadas globales estarán dadas por una descomposicisón de las fuerzas locales y su magnitud dependerá del angulo con el que está rotado el sistema, escrito de forma matricial:\n",
    "\n",
    "$$\n",
    "\\begin{Bmatrix} F_{Xi}\\\\ F_{Yi}\\\\F_{Xf}\\\\ F_{Yf}\\end{Bmatrix}\n",
    "=\n",
    "\\begin{bmatrix}\n",
    "\\cos\\theta &0 &0  &0\\\\\n",
    "sen\\theta &0 &0  &0\\\\\n",
    "0 &0 &cos\\theta&0\\\\\n",
    " 0 &0 &sen\\theta&0\\end{bmatrix}\n",
    "\\begin{Bmatrix} f_{xi}\\\\0\\\\f_{xf}\\\\0\\end{Bmatrix}\\, .$$\n",
    "\n",
    "Para comprobar la validez de este sistema de ecuaciones, calculemos el valor de las fuerzas en el sistema de referencia global:\n",
    "\n",
    "\\begin{align}\n",
    "F_{Xi} =  f_{xi}*cos\\theta\\\\\n",
    "F_{Yi} =  f_{yi}*sen\\theta\\\\\n",
    "F_{Xf} =  f_{xf}*cos\\theta\\\\\n",
    "F_{Yf} =  f_{yf}*sen\\theta\\\\\n",
    "\\end{align}\n",
    "\n",
    "Notemos que, en ninguna de las fuerzas en coordenadas globales aparecen las componentes de las fuerza locales $f_{yi}$ y $f_{yf}$, esto se debe a que son cortantes y en los sistemas de cerchas son iguales a cero.\n"
   ]
  },
  {
   "cell_type": "markdown",
   "metadata": {},
   "source": [
    "<div class=\"alert alert-info\">\n",
    "\n",
    "### Actividad para resolver con lapiz y papel\n",
    "\n",
    "* Encontrar la matriz de tansformación para los elementos señalados en la cercha de la imagen\n",
    "\n",
    "* Verifique de manualmente la multiplicación matricial (inventese un valor de fuerza interna).\n",
    "\n",
    "\n",
    "<center><img src=\"img\\3_Cercha.png\" width=\"500\"> </center>\n",
    "\n",
    "\n",
    "\n",
    "</div>"
   ]
  },
  {
   "cell_type": "markdown",
   "metadata": {},
   "source": [
    "Consideremos ahora un elemento tipo viga o pórtico orientado horizontalmente, como sabemos que este tipo de elementos puede tener fuerzas axiales, cortantes y momentos consideraremos las fuerzas internas $f_{xi}$, $f_{yi}$, $m_{zi}$, $f_{xf}$, $f_{yf}$ y $m_{zf}$ en coordenadas locales (a) y con respecto a los ejes globales (b).\n",
    "\n",
    "\n",
    "<center><img src=\"img\\4_Elemento_portico_horizontal.png\" width=\"800\"> </center>\n",
    "\n",
    "\n",
    "Como se puede observar en este caso, todas la fuerzas locales coinciden perfectamente con los ejes globales, por lo cual, las fuerzas internas del elemento en sistema global serán: $F_{Xi}$ = $f_{xi}$ ; $F_{Xi}$ = $f_{xi}$ y $M_{Zi}$ = $m_{zi}$; $F_{Xf}$ = $f_{xf}$ ; $F_{Xf}$ = $f_{xf}$ y $M_{Zf}$ = $m_{zf}$. Para expresarlo de forma matricial lo haremos de la siguente manera:\n",
    "\n",
    "$$\n",
    "\\begin{Bmatrix} F_{Xi}\\\\ F_{Yi}\\\\ M_{Zi}\\\\ F_{Yi}\\\\F_{Xf}\\\\ M_{Zf}\\end{Bmatrix}\n",
    "=\n",
    "\\begin{bmatrix}\n",
    "1 &0 &0  &0 &0 &0\\\\\n",
    "0 &1 &0  &0 &0 &0\\\\\n",
    "0 &0 &1  &0 &0 &0\\\\\n",
    "0 &0 &0  &1 &0 &0\\\\\n",
    "0 &0 &0  &0 &1 &0\\\\\n",
    "0 &0 &0  &0 &0 &1\\end{bmatrix}\n",
    "\\begin{Bmatrix} f_{xi}\\\\f_{yi}\\\\m_{zi}\\\\f_{xf}\\\\f_{yf}\\\\m_{zf}\\end{Bmatrix}\\, .$$\n",
    "\n"
   ]
  },
  {
   "cell_type": "markdown",
   "metadata": {},
   "source": [
    "<div class=\"alert alert-info\">\n",
    "\n",
    "### Actividad para resolver con lapiz y papel\n",
    "\n",
    "* Encontrar la matriz de transformación para un elemento de pórtico rotado un angulo $\\theta$\n",
    "* Verifique de manualmente la multiplicación matricial.\n",
    "    \n",
    "**NOTA: Tener en cuenta que en este caso las fuerzas internas no deben asumirse como cero y que las componentes de las fuerzas en ejes globales tienen una dirección asociada que se muestra en la imagen**\n",
    "    \n",
    "<center><img src=\"img\\5_Elemento_portico_rotado.png\" width=\"600\"> </center>\n",
    "\n",
    "\n",
    "\n",
    "</div>"
   ]
  },
  {
   "cell_type": "markdown",
   "metadata": {},
   "source": [
    "## Componente computacional\n",
    "\n",
    "El objetivo de esta parte del Notebook es programar la matriz de transformación de una cercha y de un pórtico que tendrán elementos en distintas direcciones, de forma que, aparezca automaticamente el resultado dependiendo del elemento que se esté analizando."
   ]
  },
  {
   "cell_type": "markdown",
   "metadata": {},
   "source": [
    "Como hemos visto hasta el momento las matrices de transformación contienen los senos y los cosenos que me relacionan la orientación de los elementos con los ejes globales. Recordemos que, las funciones trigonometricas también pueden ser expresadas en funcion de las medidas de un tringulo, haremos uso de esta representación para automatizar más el proceso.\n",
    "\n",
    "<center><img src=\"img\\6_Trigonometricas.png\" width=\"500\"> </center>\n",
    "\n"
   ]
  },
  {
   "cell_type": "markdown",
   "metadata": {},
   "source": [
    "<div class=\"alert alert-warning\">\n",
    "\n",
    "### Actividades a resolver con el computador\n",
    "\n",
    "* Encontrar las matrices de transformación de todos los elementos de la cercha mostrada y responder las siguientes preguntas:\n",
    "\n",
    "**Responder:**\n",
    "\n",
    "* ¿Qué elementos tienen la misma matriz de transformación?\n",
    "* ¿Qué diferencias observa entre los elementos verticales y horizontales?\n",
    "* ¿Qué carácteristica tiene la matriz de transformación de los elementos diagonales?\n",
    "    \n",
    "<center><img src=\"img\\7_Cercha.png\" width=\"500\"> </center>\n",
    "\n",
    "</div>"
   ]
  },
  {
   "cell_type": "markdown",
   "metadata": {},
   "source": [
    "1. Defina las variables de entrada para la matriz de transormación de una cercha: lado opuesto (OP), adyacente (AD) y cálcule la hipotenusa (L) partiendo de esos dos datos."
   ]
  },
  {
   "cell_type": "code",
   "execution_count": 27,
   "metadata": {},
   "outputs": [],
   "source": [
    "OP=0.7\n",
    "ADY=0"
   ]
  },
  {
   "cell_type": "markdown",
   "metadata": {},
   "source": [
    "Valor de la hipotenusa (L)"
   ]
  },
  {
   "cell_type": "code",
   "execution_count": 28,
   "metadata": {},
   "outputs": [],
   "source": [
    "L=((OP)**2+(ADY)**2)**0.5"
   ]
  },
  {
   "cell_type": "code",
   "execution_count": 29,
   "metadata": {},
   "outputs": [
    {
     "name": "stdout",
     "output_type": "stream",
     "text": [
      "0.7\n"
     ]
    }
   ],
   "source": [
    "print(L)"
   ]
  },
  {
   "cell_type": "markdown",
   "metadata": {},
   "source": [
    "2. Verificar en la gráfica que los datos ingresados correspondan con el dibujo que hay de la cercha"
   ]
  },
  {
   "cell_type": "code",
   "execution_count": 30,
   "metadata": {},
   "outputs": [
    {
     "data": {
      "image/png": "[encoded data removed]",
      "text/plain": [
       "<Figure size 432x288 with 1 Axes>"
      ]
     },
     "metadata": {
      "needs_background": "light"
     },
     "output_type": "display_data"
    }
   ],
   "source": [
    "import matplotlib.pyplot as plt\n",
    "import numpy as np\n",
    "x_data = (0,ADY)\n",
    "y_data = (0,OP)\n",
    "plt.plot(x_data, y_data)\n",
    "plt.show()"
   ]
  },
  {
   "cell_type": "markdown",
   "metadata": {},
   "source": [
    "3. Crear una matriz de ceros con las dimensiones de una matriz de transdormación de elementos tipo cercha"
   ]
  },
  {
   "cell_type": "code",
   "execution_count": null,
   "metadata": {},
   "outputs": [],
   "source": []
  },
  {
   "cell_type": "markdown",
   "metadata": {},
   "source": [
    "4. Reemplazar los ceros necesarios por los senos y cosenos "
   ]
  },
  {
   "cell_type": "code",
   "execution_count": null,
   "metadata": {},
   "outputs": [],
   "source": []
  },
  {
   "cell_type": "markdown",
   "metadata": {},
   "source": [
    "5. Verificar para los elementos DF y CD encontrados manualmente en pasos anteriores ¿se obtiene la misma respuesta?"
   ]
  },
  {
   "cell_type": "code",
   "execution_count": null,
   "metadata": {},
   "outputs": [],
   "source": []
  },
  {
   "cell_type": "markdown",
   "metadata": {},
   "source": [
    "<div class=\"alert alert-warning\">\n",
    "\n",
    "### Actividades a resolver con el computador\n",
    "\n",
    "* Encontrar las matrices de transformación de todos los elementos del pórtico mostrado y responder las siguientes preguntas:\n",
    "\n",
    "**Responder:**\n",
    "\n",
    "* ¿Qué elementos tienen la misma matriz de transformación?\n",
    "* ¿Qué diferencias observa entre los elementos verticales y horizontales?\n",
    "* ¿Qué carácteristica tiene la matriz de transformación de los elementos diagonales?\n",
    "    \n",
    "<center><img src=\"img\\8_Portico.png\" width=\"500\"> </center>\n",
    "\n",
    "</div>"
   ]
  },
  {
   "cell_type": "markdown",
   "metadata": {},
   "source": [
    "1. Defina las variables de entrada para la matriz de transormación de una cercha: lado opuesto (OP), adyacente (AD) y cálcule la hipotenusa (L) partiendo de esos dos datos."
   ]
  },
  {
   "cell_type": "code",
   "execution_count": 31,
   "metadata": {},
   "outputs": [],
   "source": [
    "OP=1\n",
    "ADY=2"
   ]
  },
  {
   "cell_type": "markdown",
   "metadata": {},
   "source": [
    "Valor de la hipotenusa (L)"
   ]
  },
  {
   "cell_type": "code",
   "execution_count": 32,
   "metadata": {},
   "outputs": [],
   "source": [
    "L=((OP)**2+(ADY)**2)**0.5"
   ]
  },
  {
   "cell_type": "code",
   "execution_count": 33,
   "metadata": {
    "scrolled": true
   },
   "outputs": [
    {
     "name": "stdout",
     "output_type": "stream",
     "text": [
      "2.23606797749979\n"
     ]
    }
   ],
   "source": [
    "print(L)"
   ]
  },
  {
   "cell_type": "markdown",
   "metadata": {},
   "source": [
    "2. Verificar en la gráfica que los datos ingresados correspondan con el dibujo que hay del pórtico"
   ]
  },
  {
   "cell_type": "code",
   "execution_count": 34,
   "metadata": {},
   "outputs": [
    {
     "data": {
      "image/png": "[encoded data removed]",
      "text/plain": [
       "<Figure size 432x288 with 1 Axes>"
      ]
     },
     "metadata": {
      "needs_background": "light"
     },
     "output_type": "display_data"
    }
   ],
   "source": [
    "import matplotlib.pyplot as plt\n",
    "import numpy as np\n",
    "x_data = (0,ADY)\n",
    "y_data = (0,OP)\n",
    "plt.plot(x_data, y_data)\n",
    "plt.show()"
   ]
  },
  {
   "cell_type": "markdown",
   "metadata": {},
   "source": [
    "3. Crear una matriz de ceros con las dimensiones de una matriz de transformación de elementos tipo pórtico o viga"
   ]
  },
  {
   "cell_type": "code",
   "execution_count": null,
   "metadata": {},
   "outputs": [],
   "source": []
  },
  {
   "cell_type": "markdown",
   "metadata": {},
   "source": [
    "4. Reemplazar los ceros necesarios por los senos y cosenos "
   ]
  },
  {
   "cell_type": "code",
   "execution_count": null,
   "metadata": {},
   "outputs": [],
   "source": []
  }
 ],
 "metadata": {
  "kernelspec": {
   "display_name": "Python 3",
   "language": "python",
   "name": "python3"
  },
  "language_info": {
   "codemirror_mode": {
    "name": "ipython",
    "version": 3
   },
   "file_extension": ".py",
   "mimetype": "text/x-python",
   "name": "python",
   "nbconvert_exporter": "python",
   "pygments_lexer": "ipython3",
   "version": "3.7.6"
  }
 },
 "nbformat": 4,
 "nbformat_minor": 4
}

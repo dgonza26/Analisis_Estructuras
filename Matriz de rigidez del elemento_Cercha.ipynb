{
 "cells": [
  {
   "cell_type": "markdown",
   "metadata": {},
   "source": [
    "Contenido bajo licencia Creative Commons BY-NC-ND. El contenido de este Notebook es creado por Ana Beatriz Acevedo Jaramillo y Daniela González González 2020. Este material es parte del curso Análisis de Estructuras del programa de Ingeniería Civil de la Universidad EAFIT."
   ]
  },
  {
   "cell_type": "markdown",
   "metadata": {},
   "source": [
    "<img src= \n",
    "\"http://www.eafit.edu.co/biblioteca/PublishingImages/logos/eafit_apa.jpg\" \n",
    "         alt=\"GeeksforGeeks logo\" \n",
    "         align=\"left\">"
   ]
  },
  {
   "cell_type": "markdown",
   "metadata": {},
   "source": [
    "# Cercha plana: matriz de rigidez global del elemento"
   ]
  },
  {
   "cell_type": "markdown",
   "metadata": {},
   "source": [
    "## Matriz de rigidez local"
   ]
  },
  {
   "cell_type": "markdown",
   "metadata": {},
   "source": [
    "Los parámetros que definen la matriz de rigidez de una cercha plana son (para cada elemento): Área de la sección transversal (A), módulo de rigidez (E) y longitud (L)."
   ]
  },
  {
   "cell_type": "markdown",
   "metadata": {},
   "source": [
    "$$\n",
    "k=\\begin{bmatrix}\n",
    "\\frac{AE}{L} &0 &-\\frac{AE}{L} &0\\\\\n",
    "0 &0 &0 &0\\\\\n",
    "-\\frac{AE}{L} &0 &\\frac{AE}{L} &0\\\\\n",
    "0 &0 &0 &0\n",
    "\\end{bmatrix}\n",
    "$$\n",
    "\n",
    "Considere un elemento con estas propiedades: Área = A (mm$^{2}$), Longitud = L (mm) y Módulo de elasticidad = E (GPa).\n",
    "\n",
    "**NOTA**: Para la programación es más apropiado utilizar las coordenadas de los nodos iniciales y finales del elemento y a partir de ellas calcular la longitud L. Esta es la forma que se utiliza en este cuaderno.\n",
    "\n",
    "<div class=\"alert alert-warning\">\n",
    "Es muy importante ser consistentes con las unidades. Para cerchas se sugiere trabajar las fuerzas en kN y las distancias en mm.\n",
    "</div>\n",
    "\n",
    "Ingrese las coordenadas del nodo incial y final del elemento:"
   ]
  },
  {
   "cell_type": "code",
   "execution_count": 1,
   "metadata": {},
   "outputs": [],
   "source": [
    "Xi = 0 #Coordenada X del nodo inicial en mm\n",
    "Yi = 0 #Coordenada Y del nodo final en mm\n",
    "Xf = 3000 #Coordenada X del nodo final en mm\n",
    "Yf = 4000 #Coordenada Y del nodo final en mm"
   ]
  },
  {
   "cell_type": "markdown",
   "metadata": {},
   "source": [
    "Longitud del elemento: $L=\\sqrt{(X_f-X_i)^{2}+(Y_f-Y_i)^{2}}$"
   ]
  },
  {
   "cell_type": "code",
   "execution_count": 2,
   "metadata": {},
   "outputs": [
    {
     "name": "stdout",
     "output_type": "stream",
     "text": [
      "5000.0\n"
     ]
    }
   ],
   "source": [
    "L = ((Xf-Xi)**2+(Yf-Yi)**2)**0.5 #Longitud en mm\n",
    "print(L)"
   ]
  },
  {
   "cell_type": "markdown",
   "metadata": {},
   "source": [
    "Dibujo del elemento:"
   ]
  },
  {
   "cell_type": "code",
   "execution_count": 4,
   "metadata": {},
   "outputs": [
    {
     "data": {
      "image/png": "[encoded data removed]",
      "text/plain": [
       "<Figure size 432x288 with 1 Axes>"
      ]
     },
     "metadata": {
      "needs_background": "light"
     },
     "output_type": "display_data"
    }
   ],
   "source": [
    "import matplotlib.pyplot as plt\n",
    "import numpy as np\n",
    "x_data = (Xi,Xf)\n",
    "y_data = (Yi,Yf)\n",
    "plt.plot(x_data, y_data)\n",
    "plt.show()"
   ]
  },
  {
   "cell_type": "markdown",
   "metadata": {},
   "source": [
    "Ahora ingrese los valores de las demás propiedades de los elementos: área de la sección transversal (A) y módulo de elasticidad (E)."
   ]
  },
  {
   "cell_type": "code",
   "execution_count": 5,
   "metadata": {},
   "outputs": [],
   "source": [
    "A = 500 #Área de la sección transversal en mm^2\n",
    "E = 200 #Módulo de elasticidad en GPa"
   ]
  },
  {
   "cell_type": "markdown",
   "metadata": {},
   "source": [
    "Genere la matriz de rigidez del elemento en coordenadas locales (k). Las unidades son (kN/mm).\n",
    "En el código esta matriz se llamará MAL."
   ]
  },
  {
   "cell_type": "code",
   "execution_count": 6,
   "metadata": {},
   "outputs": [
    {
     "name": "stdout",
     "output_type": "stream",
     "text": [
      "[[ 20.   0. -20.   0.]\n",
      " [  0.   0.   0.   0.]\n",
      " [-20.   0.  20.   0.]\n",
      " [  0.   0.   0.   0.]]\n"
     ]
    }
   ],
   "source": [
    "import numpy as np\n",
    "MAL = np.zeros((4,4), dtype =float) #genera una matriz de ceros de dimensión 4x4\n",
    "MAL[0,0]=A*E/L\n",
    "MAL[2,0]=-A*E/L\n",
    "MAL[0,2]=-A*E/L\n",
    "MAL[2,2]=A*E/L\n",
    "print(MAL)"
   ]
  },
  {
   "cell_type": "markdown",
   "metadata": {},
   "source": [
    "Esta matriz es única para el elemento: *No importa la dirección del elemento, está siempre será su matriz de rigidez local.*"
   ]
  },
  {
   "cell_type": "markdown",
   "metadata": {},
   "source": [
    "<div class=\"alert alert-info\">\n",
    "    \n",
    "### Sugerencia\n",
    "\n",
    "Modifique los valores de las propiedades de los elementos para ver sus efectos en la matriz de rigidez local.\n",
    "\n",
    "</div>"
   ]
  },
  {
   "cell_type": "markdown",
   "metadata": {},
   "source": [
    "## Matriz de transformación"
   ]
  },
  {
   "cell_type": "markdown",
   "metadata": {},
   "source": [
    "Ahora considere la posición del elemento en el espacio:"
   ]
  },
  {
   "cell_type": "markdown",
   "metadata": {},
   "source": [
    "$$\n",
    "\\begin{Bmatrix} F_{Xi}\\\\ F_{Yi}\\\\ F_{Xf}\\\\ F_{Yf}\\end{Bmatrix} =\n",
    "\\begin{bmatrix}\n",
    "CX &0 &0 &0\\\\\n",
    "CY &0 &0 &0\\\\\n",
    "0 &0 &CX &0\\\\\n",
    "0 &0 & CY &0\\\\\n",
    "\\end{bmatrix}\n",
    "\\begin{Bmatrix} f_{xi}\\\\ f_{yi}\\\\ f_{xf}\\\\ f_{yf}\\end{Bmatrix}\n",
    "$$\n",
    "\n",
    "\n",
    "$$\n",
    "\\{F\\}=\\begin{bmatrix}T\\end{bmatrix}*\\{f\\}\n",
    "$$\n",
    "\n",
    "$\n",
    "\\begin{bmatrix}T\\end{bmatrix}=$ Matriz de transformación de coordenadas\n",
    "\n",
    "Cosenos directores: $CX=\\frac{X_f-X_i}{L}$; $CY=\\frac{Y_f-Y_i}{L}$"
   ]
  },
  {
   "cell_type": "markdown",
   "metadata": {},
   "source": [
    "Cálculo de los cosenos directores del elemento:"
   ]
  },
  {
   "cell_type": "code",
   "execution_count": 7,
   "metadata": {},
   "outputs": [
    {
     "name": "stdout",
     "output_type": "stream",
     "text": [
      "0.6\n",
      "0.8\n"
     ]
    }
   ],
   "source": [
    "CX=(Xf-Xi)/L\n",
    "CY=(Yf-Yi)/L\n",
    "print(CX)\n",
    "print(CY)"
   ]
  },
  {
   "cell_type": "markdown",
   "metadata": {},
   "source": [
    "Cálculo la matriz de transformación del elemento. En el código la matriz se almacena como MT."
   ]
  },
  {
   "cell_type": "code",
   "execution_count": 8,
   "metadata": {},
   "outputs": [
    {
     "name": "stdout",
     "output_type": "stream",
     "text": [
      "[[0.6 0.  0.  0. ]\n",
      " [0.8 0.  0.  0. ]\n",
      " [0.  0.  0.6 0. ]\n",
      " [0.  0.  0.8 0. ]]\n"
     ]
    }
   ],
   "source": [
    "MT = np.zeros((4,4), dtype =float) #generación de una matriz de ceros de dimensión 4x4.\n",
    "MT[0,0]=CX\n",
    "MT[1,0]=CY\n",
    "MT[2,2]=CX\n",
    "MT[3,2]=CY\n",
    "print(MT)"
   ]
  },
  {
   "cell_type": "markdown",
   "metadata": {},
   "source": [
    "<div class=\"alert alert-info\">\n",
    "    \n",
    "### Sugerencia\n",
    "\n",
    "Modifique la dirección del elemento para ver su efecto en la matriz de transformación.\n",
    "\n",
    "</div>"
   ]
  },
  {
   "cell_type": "markdown",
   "metadata": {},
   "source": [
    "## Matriz del elemento en coordenadas globales"
   ]
  },
  {
   "cell_type": "markdown",
   "metadata": {},
   "source": [
    "$$\n",
    "\\begin{bmatrix}K\\end{bmatrix}=\\begin{bmatrix}T\\end{bmatrix}*\\begin{bmatrix}k\\end{bmatrix}*\\begin{bmatrix}T\\end{bmatrix}^{T}\n",
    "$$\n",
    "\n"
   ]
  },
  {
   "cell_type": "markdown",
   "metadata": {},
   "source": [
    "Cálculo de la matriz de rigidez del elemento en coordenadas globales (K). "
   ]
  },
  {
   "cell_type": "code",
   "execution_count": 9,
   "metadata": {},
   "outputs": [
    {
     "name": "stdout",
     "output_type": "stream",
     "text": [
      "[[  7.2   9.6  -7.2  -9.6]\n",
      " [  9.6  12.8  -9.6 -12.8]\n",
      " [ -7.2  -9.6   7.2   9.6]\n",
      " [ -9.6 -12.8   9.6  12.8]]\n"
     ]
    }
   ],
   "source": [
    "K=np.dot(MT,np.dot(MAL,np.transpose(MT)))\n",
    "print(K)"
   ]
  }
 ],
 "metadata": {
  "kernelspec": {
   "display_name": "Python 3",
   "language": "python",
   "name": "python3"
  },
  "language_info": {
   "codemirror_mode": {
    "name": "ipython",
    "version": 3
   },
   "file_extension": ".py",
   "mimetype": "text/x-python",
   "name": "python",
   "nbconvert_exporter": "python",
   "pygments_lexer": "ipython3",
   "version": "3.8.5"
  }
 },
 "nbformat": 4,
 "nbformat_minor": 2
}
